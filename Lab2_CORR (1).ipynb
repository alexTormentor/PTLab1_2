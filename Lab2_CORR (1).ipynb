{
 "cells": [
  {
   "cell_type": "code",
   "execution_count": 1,
   "id": "9ae2950d-cc97-4c69-abfe-fde8588a4a79",
   "metadata": {},
   "outputs": [],
   "source": [
    "import numpy as np\n",
    "import pandas as pd\n",
    "from pyspark.sql import SparkSession\n",
    "from pyspark.sql.functions import col, when\n",
    "from pyspark.ml.feature import VectorAssembler, StringIndexer\n",
    "from pyspark.ml.regression import RandomForestRegressor\n",
    "from pyspark.ml.classification import LogisticRegression\n",
    "from pyspark.ml import Pipeline\n",
    "from pyspark.ml.tuning import ParamGridBuilder, CrossValidator\n",
    "from pyspark.ml.evaluation import RegressionEvaluator, BinaryClassificationEvaluator\n",
    "\n",
    "# Инициализация SparkSession\n",
    "spark = SparkSession.builder.master(\"local[*]\").appName(\"MLExample\").getOrCreate()"
   ]
  },
  {
   "cell_type": "code",
   "execution_count": 2,
   "id": "a7c41ad3-05d0-48b1-8244-70e4920a30e2",
   "metadata": {},
   "outputs": [],
   "source": [
    "# загружаем данные\n",
    "csv = spark.read.csv('flights.csv', inferSchema=True, header=True)"
   ]
  },
  {
   "cell_type": "code",
   "execution_count": 3,
   "id": "c8d2a91a-9a77-4ab8-85e4-ff6c3b519ae8",
   "metadata": {},
   "outputs": [
    {
     "name": "stdout",
     "output_type": "stream",
     "text": [
      "+----------+---------+-------+---------------+-------------+--------+--------+\n",
      "|DayofMonth|DayOfWeek|Carrier|OriginAirportID|DestAirportID|DepDelay|ArrDelay|\n",
      "+----------+---------+-------+---------------+-------------+--------+--------+\n",
      "|        19|        5|     DL|          11433|        13303|      -3|       1|\n",
      "|        19|        5|     DL|          14869|        12478|       0|      -8|\n",
      "|        19|        5|     DL|          14057|        14869|      -4|     -15|\n",
      "|        19|        5|     DL|          15016|        11433|      28|      24|\n",
      "|        19|        5|     DL|          11193|        12892|      -6|     -11|\n",
      "|        19|        5|     DL|          10397|        15016|      -1|     -19|\n",
      "|        19|        5|     DL|          15016|        10397|       0|      -1|\n",
      "|        19|        5|     DL|          10397|        14869|      15|      24|\n",
      "|        19|        5|     DL|          10397|        10423|      33|      34|\n",
      "|        19|        5|     DL|          11278|        10397|     323|     322|\n",
      "|        19|        5|     DL|          14107|        13487|      -7|     -13|\n",
      "|        19|        5|     DL|          11433|        11298|      22|      41|\n",
      "|        19|        5|     DL|          11298|        11433|      40|      20|\n",
      "|        19|        5|     DL|          11433|        12892|      -2|      -7|\n",
      "|        19|        5|     DL|          10397|        12451|      71|      75|\n",
      "|        19|        5|     DL|          12451|        10397|      75|      57|\n",
      "|        19|        5|     DL|          12953|        10397|      -1|      10|\n",
      "|        19|        5|     DL|          11433|        12953|      -3|     -10|\n",
      "|        19|        5|     DL|          10397|        14771|      31|      38|\n",
      "|        19|        5|     DL|          13204|        10397|       8|      25|\n",
      "+----------+---------+-------+---------------+-------------+--------+--------+\n",
      "only showing top 20 rows\n",
      "\n"
     ]
    }
   ],
   "source": [
    "csv.show()"
   ]
  },
  {
   "cell_type": "code",
   "execution_count": 4,
   "id": "51ea3528-ae6f-4904-bfbe-535b5200419b",
   "metadata": {},
   "outputs": [
    {
     "name": "stdout",
     "output_type": "stream",
     "text": [
      "+----------+---------+-------+---------------+-------------+--------+--------+--------------+\n",
      "|DayofMonth|DayOfWeek|Carrier|OriginAirportID|DestAirportID|DepDelay|ArrDelay|binary_feature|\n",
      "+----------+---------+-------+---------------+-------------+--------+--------+--------------+\n",
      "|        19|        5|     DL|          11433|        13303|      -3|       1|             0|\n",
      "|        19|        5|     DL|          14869|        12478|       0|      -8|             0|\n",
      "|        19|        5|     DL|          14057|        14869|      -4|     -15|             0|\n",
      "|        19|        5|     DL|          15016|        11433|      28|      24|             1|\n",
      "|        19|        5|     DL|          11193|        12892|      -6|     -11|             0|\n",
      "|        19|        5|     DL|          10397|        15016|      -1|     -19|             0|\n",
      "|        19|        5|     DL|          15016|        10397|       0|      -1|             0|\n",
      "|        19|        5|     DL|          10397|        14869|      15|      24|             1|\n",
      "|        19|        5|     DL|          10397|        10423|      33|      34|             1|\n",
      "|        19|        5|     DL|          11278|        10397|     323|     322|             1|\n",
      "|        19|        5|     DL|          14107|        13487|      -7|     -13|             0|\n",
      "|        19|        5|     DL|          11433|        11298|      22|      41|             1|\n",
      "|        19|        5|     DL|          11298|        11433|      40|      20|             1|\n",
      "|        19|        5|     DL|          11433|        12892|      -2|      -7|             0|\n",
      "|        19|        5|     DL|          10397|        12451|      71|      75|             1|\n",
      "|        19|        5|     DL|          12451|        10397|      75|      57|             1|\n",
      "|        19|        5|     DL|          12953|        10397|      -1|      10|             0|\n",
      "|        19|        5|     DL|          11433|        12953|      -3|     -10|             0|\n",
      "|        19|        5|     DL|          10397|        14771|      31|      38|             1|\n",
      "|        19|        5|     DL|          13204|        10397|       8|      25|             1|\n",
      "+----------+---------+-------+---------------+-------------+--------+--------+--------------+\n",
      "only showing top 20 rows\n",
      "\n"
     ]
    }
   ],
   "source": [
    "# Создание бинарной метки (1 если задержка больше 15 минут, иначе 0)\n",
    "data = csv.withColumn(\"binary_feature\", (col(\"ArrDelay\") > 15).cast(\"Int\"))\n",
    "data.show()"
   ]
  },
  {
   "cell_type": "code",
   "execution_count": 5,
   "id": "ba6df157-cf7f-472f-aa3e-7d0c98288f14",
   "metadata": {},
   "outputs": [],
   "source": [
    "# выбор признаков \n",
    "selected_features = [\"DayofMonth\", \"DayOfWeek\", \"Carrier\", \"OriginAirportID\", \"DestAirportID\", \"DepDelay\"]\n",
    "label_column = \"ArrDelay\"  # для задачи регрессии, целевая\n",
    "binary_label_column = \"binary_feature\"  # для задачи бинарной классификации, целевая\n",
    "\n",
    "data = csv.select(selected_features + [label_column])"
   ]
  },
  {
   "cell_type": "code",
   "execution_count": 6,
   "id": "1907e8f4-e609-4ba6-a842-54b5702dfc8d",
   "metadata": {},
   "outputs": [
    {
     "name": "stdout",
     "output_type": "stream",
     "text": [
      "+----------+---------+-------+---------------+-------------+--------+--------+\n",
      "|DayofMonth|DayOfWeek|Carrier|OriginAirportID|DestAirportID|DepDelay|ArrDelay|\n",
      "+----------+---------+-------+---------------+-------------+--------+--------+\n",
      "|        19|        5|     DL|          11433|        13303|      -3|       1|\n",
      "|        19|        5|     DL|          14869|        12478|       0|      -8|\n",
      "|        19|        5|     DL|          14057|        14869|      -4|     -15|\n",
      "|        19|        5|     DL|          15016|        11433|      28|      24|\n",
      "|        19|        5|     DL|          11193|        12892|      -6|     -11|\n",
      "|        19|        5|     DL|          10397|        15016|      -1|     -19|\n",
      "|        19|        5|     DL|          15016|        10397|       0|      -1|\n",
      "|        19|        5|     DL|          10397|        14869|      15|      24|\n",
      "|        19|        5|     DL|          10397|        10423|      33|      34|\n",
      "|        19|        5|     DL|          11278|        10397|     323|     322|\n",
      "|        19|        5|     DL|          14107|        13487|      -7|     -13|\n",
      "|        19|        5|     DL|          11433|        11298|      22|      41|\n",
      "|        19|        5|     DL|          11298|        11433|      40|      20|\n",
      "|        19|        5|     DL|          11433|        12892|      -2|      -7|\n",
      "|        19|        5|     DL|          10397|        12451|      71|      75|\n",
      "|        19|        5|     DL|          12451|        10397|      75|      57|\n",
      "|        19|        5|     DL|          12953|        10397|      -1|      10|\n",
      "|        19|        5|     DL|          11433|        12953|      -3|     -10|\n",
      "|        19|        5|     DL|          10397|        14771|      31|      38|\n",
      "|        19|        5|     DL|          13204|        10397|       8|      25|\n",
      "+----------+---------+-------+---------------+-------------+--------+--------+\n",
      "only showing top 20 rows\n",
      "\n"
     ]
    }
   ],
   "source": [
    "data.show()"
   ]
  },
  {
   "cell_type": "code",
   "execution_count": 7,
   "id": "5493ea7d-7a09-477a-8424-64c7183d1695",
   "metadata": {},
   "outputs": [],
   "source": [
    "# Индексация категориального признака\n",
    "carrier_indexer = StringIndexer(inputCol=\"Carrier\", outputCol=\"CarrierIdx\")\n",
    "assembler = VectorAssembler(inputCols=[\"CarrierIdx\", \"DayofMonth\", \"DayOfWeek\", \"OriginAirportID\", \"DestAirportID\", \"DepDelay\"], outputCol=\"features\")\n",
    "regressor = RandomForestRegressor(labelCol=label_column, featuresCol=\"features\")"
   ]
  },
  {
   "cell_type": "code",
   "execution_count": 8,
   "id": "88e2bea2-5c37-47f9-9c36-04f178b8f117",
   "metadata": {},
   "outputs": [],
   "source": [
    "# Создание конвейера\n",
    "pipeline_regression = Pipeline(stages=[carrier_indexer, assembler, regressor])"
   ]
  },
  {
   "cell_type": "code",
   "execution_count": 9,
   "id": "ca9bf3bc-9f66-4e3d-ade8-486bd4fdcae6",
   "metadata": {},
   "outputs": [],
   "source": [
    "# Разделение данных на тренировочный и тестовый набор\n",
    "train_reg, test_reg = data.randomSplit([0.7, 0.3])"
   ]
  },
  {
   "cell_type": "code",
   "execution_count": 10,
   "id": "7d08f97c-9e63-478f-a5b7-734076f19a67",
   "metadata": {},
   "outputs": [],
   "source": [
    "# Обучение модели\n",
    "model_regression = pipeline_regression.fit(train_reg)"
   ]
  },
  {
   "cell_type": "code",
   "execution_count": 11,
   "id": "ece6beaf-c397-4dfb-bc4b-e212922b91ef",
   "metadata": {},
   "outputs": [],
   "source": [
    "# Предсказание на тестовом наборе\n",
    "predictions_regression = model_regression.transform(test_reg)"
   ]
  },
  {
   "cell_type": "code",
   "execution_count": 12,
   "id": "613df02f-1a3c-4c45-aba4-b35495cc21f7",
   "metadata": {},
   "outputs": [
    {
     "name": "stdout",
     "output_type": "stream",
     "text": [
      "Root Mean Squared Error (RMSE): 22.106883607125628\n"
     ]
    }
   ],
   "source": [
    "# Оценка модели\n",
    "evaluator_regression = RegressionEvaluator(labelCol=label_column, metricName=\"rmse\")\n",
    "rmse = evaluator_regression.evaluate(predictions_regression)\n",
    "print(f\"Root Mean Squared Error (RMSE): {rmse}\")"
   ]
  },
  {
   "cell_type": "code",
   "execution_count": 13,
   "id": "7264f756-c1ad-440d-ac1e-6d1ae0b82d18",
   "metadata": {},
   "outputs": [],
   "source": [
    "# Для задачи бинарной классификации (LogisticRegression)"
   ]
  },
  {
   "cell_type": "code",
   "execution_count": 29,
   "id": "cc38168b-2b07-4300-9ca8-90538b729551",
   "metadata": {},
   "outputs": [
    {
     "name": "stdout",
     "output_type": "stream",
     "text": [
      "+----------+---------+-------+---------------+-------------+--------+--------+--------------+\n",
      "|DayofMonth|DayOfWeek|Carrier|OriginAirportID|DestAirportID|DepDelay|ArrDelay|binary_feature|\n",
      "+----------+---------+-------+---------------+-------------+--------+--------+--------------+\n",
      "|        19|        5|     DL|          11433|        13303|      -3|       1|             0|\n",
      "|        19|        5|     DL|          14869|        12478|       0|      -8|             0|\n",
      "|        19|        5|     DL|          14057|        14869|      -4|     -15|             0|\n",
      "|        19|        5|     DL|          15016|        11433|      28|      24|             1|\n",
      "|        19|        5|     DL|          11193|        12892|      -6|     -11|             0|\n",
      "|        19|        5|     DL|          10397|        15016|      -1|     -19|             0|\n",
      "|        19|        5|     DL|          15016|        10397|       0|      -1|             0|\n",
      "|        19|        5|     DL|          10397|        14869|      15|      24|             1|\n",
      "|        19|        5|     DL|          10397|        10423|      33|      34|             1|\n",
      "|        19|        5|     DL|          11278|        10397|     323|     322|             1|\n",
      "|        19|        5|     DL|          14107|        13487|      -7|     -13|             0|\n",
      "|        19|        5|     DL|          11433|        11298|      22|      41|             1|\n",
      "|        19|        5|     DL|          11298|        11433|      40|      20|             1|\n",
      "|        19|        5|     DL|          11433|        12892|      -2|      -7|             0|\n",
      "|        19|        5|     DL|          10397|        12451|      71|      75|             1|\n",
      "|        19|        5|     DL|          12451|        10397|      75|      57|             1|\n",
      "|        19|        5|     DL|          12953|        10397|      -1|      10|             0|\n",
      "|        19|        5|     DL|          11433|        12953|      -3|     -10|             0|\n",
      "|        19|        5|     DL|          10397|        14771|      31|      38|             1|\n",
      "|        19|        5|     DL|          13204|        10397|       8|      25|             1|\n",
      "+----------+---------+-------+---------------+-------------+--------+--------+--------------+\n",
      "only showing top 20 rows\n",
      "\n"
     ]
    }
   ],
   "source": [
    "# загружаем данные\n",
    "csv = spark.read.csv('flights.csv', inferSchema=True, header=True)\n",
    "# Создание бинарной метки (1 если задержка больше 15 минут, иначе 0)\n",
    "data = csv.withColumn(\"binary_feature\", (col(\"ArrDelay\") > 15).cast(\"Int\"))\n",
    "data.show()\n",
    "selected_features = [\"DayofMonth\", \"DayOfWeek\", \"Carrier\", \"OriginAirportID\", \"DestAirportID\", \"DepDelay\"]\n",
    "label_column = \"ArrDelay\"  # для задачи регрессии, целевая\n",
    "binary_label_column = \"binary_feature\"  # для задачи бинарной классификации, целевая"
   ]
  },
  {
   "cell_type": "code",
   "execution_count": 30,
   "id": "c7e58bcd-9f96-4d4b-bd95-f0ad6cc822ae",
   "metadata": {},
   "outputs": [],
   "source": [
    "# Индексация категориального признака\n",
    "carrier_indexer = StringIndexer(inputCol=\"Carrier\", outputCol=\"CarrierIdx\")\n",
    "assembler = VectorAssembler(inputCols=[\"CarrierIdx\", \"DayofMonth\", \"DayOfWeek\", \"OriginAirportID\", \"DestAirportID\", \"DepDelay\"], outputCol=\"features\")\n",
    "binary_indexer = StringIndexer(inputCol=binary_label_column, outputCol=\"label\")\n",
    "classifier = LogisticRegression(featuresCol=\"features\", labelCol=\"label\", maxIter=10, regParam=0.3)"
   ]
  },
  {
   "cell_type": "code",
   "execution_count": 31,
   "id": "b55e8cc9-dd1f-4d13-9007-55b5328c2220",
   "metadata": {},
   "outputs": [],
   "source": [
    "# Создание конвейера\n",
    "pipeline_classification = Pipeline(stages=[carrier_indexer, assembler, binary_indexer, classifier])"
   ]
  },
  {
   "cell_type": "code",
   "execution_count": 32,
   "id": "e68d76a1-3c03-48a6-83c2-ffa7c280c7ed",
   "metadata": {},
   "outputs": [],
   "source": [
    "# Разделение данных на тренировочный и тестовый набор\n",
    "train_clf, test_clf = data.randomSplit([0.7, 0.3])"
   ]
  },
  {
   "cell_type": "code",
   "execution_count": 33,
   "id": "6cdf3b43-4490-4854-9a72-a8fffbe14140",
   "metadata": {},
   "outputs": [],
   "source": [
    "selected_features = [\"DayofMonth\", \"DayOfWeek\", \"Carrier\", \"OriginAirportID\", \"DestAirportID\", \"DepDelay\"]\n",
    "label_column = \"ArrDelay\"  # для задачи регрессии, целевая\n",
    "binary_label_column = \"binary_feature\"  # для задачи бинарной классификации, целевая"
   ]
  },
  {
   "cell_type": "code",
   "execution_count": 34,
   "id": "006b7641-570c-4aa8-824f-3b0397a88b82",
   "metadata": {},
   "outputs": [],
   "source": [
    "# Обучение модели\n",
    "model_classification = pipeline_classification.fit(train_clf)"
   ]
  },
  {
   "cell_type": "code",
   "execution_count": 35,
   "id": "d67a55d6-6e96-4a7c-b313-6137d2501376",
   "metadata": {},
   "outputs": [],
   "source": [
    "# Предсказание на тестовом наборе\n",
    "predictions_classification = model_classification.transform(test_clf)"
   ]
  },
  {
   "cell_type": "code",
   "execution_count": 36,
   "id": "32084d4e-4be8-456c-b6be-83049a9604ba",
   "metadata": {},
   "outputs": [
    {
     "name": "stdout",
     "output_type": "stream",
     "text": [
      "Area Under ROC (AUC): 0.923177067443397\n"
     ]
    }
   ],
   "source": [
    "# Оценка модели\n",
    "evaluator_classification = BinaryClassificationEvaluator(labelCol=\"label\", rawPredictionCol=\"rawPrediction\", metricName=\"areaUnderROC\")\n",
    "auc = evaluator_classification.evaluate(predictions_classification)\n",
    "print(f\"Area Under ROC (AUC): {auc}\")"
   ]
  },
  {
   "cell_type": "code",
   "execution_count": 37,
   "id": "339f963c-02b2-42f4-bdf4-546da20cb44a",
   "metadata": {},
   "outputs": [],
   "source": [
    "# Подбор гиперпараметров"
   ]
  },
  {
   "cell_type": "code",
   "execution_count": 38,
   "id": "77e8eba6-2c0b-49c3-9180-7f15c5edf25c",
   "metadata": {},
   "outputs": [],
   "source": [
    "# Для RandomForestRegressor\n",
    "paramGrid_regression = ParamGridBuilder().addGrid(regressor.maxDepth, [5, 10]).addGrid(regressor.numTrees, [10, 20]).build()"
   ]
  },
  {
   "cell_type": "code",
   "execution_count": 39,
   "id": "2be21bb1-73b2-4f92-b3ea-e5d1b7fe4217",
   "metadata": {},
   "outputs": [],
   "source": [
    "# Для LogisticRegression\n",
    "paramGrid_classification = ParamGridBuilder().addGrid(classifier.regParam, [0.3, 0.1]).addGrid(classifier.maxIter, [10, 5]).addGrid(classifier.threshold, [0.4, 0.3]).build()"
   ]
  },
  {
   "cell_type": "code",
   "execution_count": 40,
   "id": "39af7ed6-f99a-4471-94f6-22458f60f93e",
   "metadata": {},
   "outputs": [],
   "source": [
    "# Кросс-валидация для RandomForestRegressor\n",
    "cv_regression = CrossValidator(estimator=pipeline_regression, evaluator=evaluator_regression, estimatorParamMaps=paramGrid_regression, numFolds=2)\n",
    "model_cv_regression = cv_regression.fit(train_reg)"
   ]
  },
  {
   "cell_type": "code",
   "execution_count": 41,
   "id": "3f968011-fbf3-476e-99a1-78f1d604d266",
   "metadata": {},
   "outputs": [],
   "source": [
    "# Кросс-валидация для LogisticRegression\n",
    "cv_classification = CrossValidator(estimator=pipeline_classification, evaluator=evaluator_classification, estimatorParamMaps=paramGrid_classification, numFolds=2)\n",
    "model_cv_classification = cv_classification.fit(train_clf)"
   ]
  },
  {
   "cell_type": "code",
   "execution_count": 42,
   "id": "80ee1121-b29a-4eb3-82d0-58171bd37e1c",
   "metadata": {},
   "outputs": [],
   "source": [
    "# Получение лучших моделей\n",
    "best_model_regression = model_cv_regression.bestModel\n",
    "best_model_classification = model_cv_classification.bestModel"
   ]
  },
  {
   "cell_type": "code",
   "execution_count": 43,
   "id": "85ebe9db-0eb1-48a6-ad84-5a4a985acb52",
   "metadata": {},
   "outputs": [],
   "source": [
    "# Оценка лучших моделей\n",
    "predictions_best_regression = best_model_regression.transform(test_reg)\n",
    "predictions_best_classification = best_model_classification.transform(test_clf)"
   ]
  },
  {
   "cell_type": "code",
   "execution_count": 44,
   "id": "81c53391-2112-4e3a-81c6-131e17177251",
   "metadata": {},
   "outputs": [
    {
     "name": "stdout",
     "output_type": "stream",
     "text": [
      "Best Model - Regression - RMSE: 19.90802904610459\n",
      "Best Model - Classification - AUC: 0.9235247423054463\n"
     ]
    }
   ],
   "source": [
    "# Оценка метрик\n",
    "rmse_best = evaluator_regression.evaluate(predictions_best_regression)\n",
    "auc_best = evaluator_classification.evaluate(predictions_best_classification)\n",
    "\n",
    "print(f\"Best Model - Regression - RMSE: {rmse_best}\")\n",
    "print(f\"Best Model - Classification - AUC: {auc_best}\")"
   ]
  },
  {
   "cell_type": "code",
   "execution_count": null,
   "id": "a6607e3c-4488-4ed1-a5f6-a06970415069",
   "metadata": {},
   "outputs": [],
   "source": []
  }
 ],
 "metadata": {
  "kernelspec": {
   "display_name": "Python 3 (ipykernel)",
   "language": "python",
   "name": "python3"
  },
  "language_info": {
   "codemirror_mode": {
    "name": "ipython",
    "version": 3
   },
   "file_extension": ".py",
   "mimetype": "text/x-python",
   "name": "python",
   "nbconvert_exporter": "python",
   "pygments_lexer": "ipython3",
   "version": "3.11.6"
  }
 },
 "nbformat": 4,
 "nbformat_minor": 5
}
